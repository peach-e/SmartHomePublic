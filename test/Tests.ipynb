{
 "cells": [
  {
   "cell_type": "code",
   "execution_count": 1,
   "metadata": {},
   "outputs": [
    {
     "name": "stdout",
     "output_type": "stream",
     "text": [
      "INFO [configuration.py:64]:  Loading configuration from /home/peach/Development/SmartHome/conf/main.conf.\n",
      "\u001b[93mWARN [_mock.py:17]:  MOCK - Setting pin 18 to OUTPUT.\u001b[39m\n",
      "\u001b[93mWARN [http.py:17]:  MOCK - Using mock HTTP\u001b[39m\n",
      "\u001b[93mWARN [_mock.py:20]:  MOCK - Setting up RF24 Radio.\u001b[39m\n",
      "\u001b[93mWARN [_mock.py:16]:  MOCK - Initializing Serial Connection.\u001b[39m\n"
     ]
    }
   ],
   "source": [
    "# For best results, please enable mocks and re-deploy the database.\n",
    "\n",
    "import tsl.services\n",
    "\n",
    "def explain(msg):\n",
    "    print(\"Explain: \" + msg)"
   ]
  },
  {
   "cell_type": "code",
   "execution_count": 2,
   "metadata": {},
   "outputs": [
    {
     "name": "stdout",
     "output_type": "stream",
     "text": [
      "Explain: Should apply power on reset states and set some pins on and off.\n",
      "\u001b[93mWARN [_mock.py:23]:  MOCK - Turning ON pin 18.\u001b[39m\n",
      "\u001b[93mWARN [_mock.py:51]:  MOCK - Setting Blue Light to 0\u001b[39m\n",
      "\u001b[93mWARN [_mock.py:57]:  MOCK - Setting Green Light to 0\u001b[39m\n",
      "\u001b[93mWARN [_mock.py:62]:  MOCK - Setting RGB Bedroom Light to 0, 0, 0\u001b[39m\n",
      "\u001b[93mWARN [_mock.py:68]:  MOCK - Setting RGB Doorframe Light to 0, 0, 0\u001b[39m\n",
      "\u001b[93mWARN [_mock.py:74]:  MOCK - Setting RGB Tensegrity Light to 0, 0, 0\u001b[39m\n",
      "\u001b[93mWARN [http.py:39]:  MOCK - Setting CRPD Pixel 1 to 0, 0, 0.\u001b[39m\n",
      "\u001b[93mWARN [http.py:39]:  MOCK - Setting CRPD Pixel 2 to 0, 0, 0.\u001b[39m\n",
      "\u001b[93mWARN [http.py:39]:  MOCK - Setting CRPD Pixel 3 to 0, 0, 0.\u001b[39m\n",
      "\u001b[93mWARN [http.py:39]:  MOCK - Setting CRPD Pixel 4 to 0, 0, 0.\u001b[39m\n"
     ]
    }
   ],
   "source": [
    "explain('Should apply power on reset states and set some pins on and off.')\n",
    "tsl.services.apply_por_states()"
   ]
  },
  {
   "cell_type": "code",
   "execution_count": 3,
   "metadata": {},
   "outputs": [
    {
     "name": "stdout",
     "output_type": "stream",
     "text": [
      "Explain: Should get some peripherals and be able to print them out.\n",
      "[{'id': 1, 'name': 'COTS Grow Lights', 'uuid': 'e2cdbfcc-02cf-4a19-aa81-8c000a2f8640', 'type': 'ONOFF', 'state': {'enabled': False}}, {'id': 2, 'name': 'Blue Ambient', 'uuid': '34166325-2d5c-49bf-a89a-c36f991c07bd', 'type': 'SLIDER', 'state': {'level': 0}}, {'id': 3, 'name': 'Green Ambient', 'uuid': '8c639c8c-7c45-41cc-bb86-b11d0a98e90e', 'type': 'SLIDER', 'state': {'level': 0}}, {'id': 4, 'name': 'RGB Bedroom', 'uuid': '6fa939de-3775-4159-85e4-bd2e4d38ffa2', 'type': 'RGB', 'state': {'r': 0, 'g': 0, 'b': 0}}, {'id': 5, 'name': 'RGB Hallway', 'uuid': '516fab6b-6db0-4c68-a1f6-2fbf76f05920', 'type': 'RGB', 'state': {'r': 0, 'g': 0, 'b': 0}}, {'id': 6, 'name': 'Tensegrity', 'uuid': '5eef849c-3533-4513-bfa0-a3010bf06858', 'type': 'RGB', 'state': {'r': 0, 'g': 0, 'b': 0}}, {'id': 7, 'name': 'CRPD 1', 'uuid': '296e9040-b70a-4661-ab2c-e024d77aa35b', 'type': 'RGB', 'state': {'r': 0, 'g': 0, 'b': 0}}, {'id': 8, 'name': 'CRPD 2', 'uuid': '022f9ea3-9d67-4e41-ac16-815f6883b910', 'type': 'RGB', 'state': {'r': 0, 'g': 0, 'b': 0}}, {'id': 9, 'name': 'CRPD 3', 'uuid': '85c87440-1b80-42e5-8416-aa902791930a', 'type': 'RGB', 'state': {'r': 0, 'g': 0, 'b': 0}}, {'id': 10, 'name': 'CRPD 4', 'uuid': 'da5e1db6-def8-4f7d-aa2d-803ac0e13753', 'type': 'RGB', 'state': {'r': 0, 'g': 0, 'b': 0}}]\n"
     ]
    }
   ],
   "source": [
    "explain('Should get some peripherals and be able to print them out.')\n",
    "result = tsl.services.get_peripherals()\n",
    "\n",
    "print([ r.convert_to_dictionary() for r in result])"
   ]
  },
  {
   "cell_type": "code",
   "execution_count": 4,
   "metadata": {},
   "outputs": [
    {
     "name": "stdout",
     "output_type": "stream",
     "text": [
      "Explain: Should be able to set the state of a peripheral.\n",
      "\u001b[93mWARN [_mock.py:23]:  MOCK - Turning OFF pin 18.\u001b[39m\n",
      "\u001b[93mWARN [_mock.py:23]:  MOCK - Turning ON pin 18.\u001b[39m\n",
      "\u001b[93mWARN [_mock.py:51]:  MOCK - Setting Blue Light to 123\u001b[39m\n",
      "\u001b[93mWARN [_mock.py:51]:  MOCK - Setting Blue Light to 132\u001b[39m\n"
     ]
    },
    {
     "data": {
      "text/plain": [
       "True"
      ]
     },
     "execution_count": 4,
     "metadata": {},
     "output_type": "execute_result"
    }
   ],
   "source": [
    "explain('Should be able to set the state of a peripheral.')\n",
    "tsl.services.set_peripheral_state(1, {'enabled':True})\n",
    "tsl.services.set_peripheral_state(1, {'enabled':False})\n",
    "tsl.services.set_peripheral_state(2, {'level': 123})\n",
    "tsl.services.set_peripheral_state(2, {'level': 132})"
   ]
  },
  {
   "cell_type": "code",
   "execution_count": 5,
   "metadata": {},
   "outputs": [
    {
     "name": "stdout",
     "output_type": "stream",
     "text": [
      "Explain: Should be able to get presets.\n"
     ]
    },
    {
     "data": {
      "text/plain": [
       "[<tsl.model.Preset at 0x7f9ec82ea2e0>,\n",
       " <tsl.model.Preset at 0x7f9ec82ea3d0>,\n",
       " <tsl.model.Preset at 0x7f9ec82f6130>,\n",
       " <tsl.model.Preset at 0x7f9ec82f6280>,\n",
       " <tsl.model.Preset at 0x7f9ec82f63a0>,\n",
       " <tsl.model.Preset at 0x7f9ec82f64c0>,\n",
       " <tsl.model.Preset at 0x7f9ec82f65e0>,\n",
       " <tsl.model.Preset at 0x7f9ec82f6940>,\n",
       " <tsl.model.Preset at 0x7f9ec82f6ca0>,\n",
       " <tsl.model.Preset at 0x7f9ec82f7040>,\n",
       " <tsl.model.Preset at 0x7f9ec82f7460>,\n",
       " <tsl.model.Preset at 0x7f9ec82f7880>]"
      ]
     },
     "execution_count": 5,
     "metadata": {},
     "output_type": "execute_result"
    }
   ],
   "source": [
    "explain('Should be able to get presets.')\n",
    "tsl.services.get_presets()"
   ]
  },
  {
   "cell_type": "code",
   "execution_count": 6,
   "metadata": {},
   "outputs": [
    {
     "name": "stdout",
     "output_type": "stream",
     "text": [
      "Explain: Should be able to apply presets that turn lights on and off.\n",
      "Turn Everything On\n",
      "\u001b[93mWARN [_mock.py:23]:  MOCK - Turning OFF pin 18.\u001b[39m\n",
      "\u001b[93mWARN [_mock.py:51]:  MOCK - Setting Blue Light to 255\u001b[39m\n",
      "\u001b[93mWARN [_mock.py:57]:  MOCK - Setting Green Light to 255\u001b[39m\n",
      "\u001b[93mWARN [_mock.py:62]:  MOCK - Setting RGB Bedroom Light to 128, 30, 255\u001b[39m\n",
      "\u001b[93mWARN [_mock.py:68]:  MOCK - Setting RGB Doorframe Light to 128, 30, 255\u001b[39m\n",
      "\u001b[93mWARN [_mock.py:74]:  MOCK - Setting RGB Tensegrity Light to 255, 255, 255\u001b[39m\n",
      "\u001b[93mWARN [http.py:39]:  MOCK - Setting CRPD Pixel 1 to 255, 255, 255.\u001b[39m\n",
      "\u001b[93mWARN [http.py:39]:  MOCK - Setting CRPD Pixel 2 to 255, 255, 255.\u001b[39m\n",
      "\u001b[93mWARN [http.py:39]:  MOCK - Setting CRPD Pixel 3 to 255, 255, 255.\u001b[39m\n",
      "\u001b[93mWARN [http.py:39]:  MOCK - Setting CRPD Pixel 4 to 255, 255, 255.\u001b[39m\n",
      "Turn Everything Off\n",
      "Grow Lights On\n",
      "\u001b[93mWARN [_mock.py:23]:  MOCK - Turning OFF pin 18.\u001b[39m\n",
      "Grow Lights Off\n",
      "\u001b[93mWARN [_mock.py:23]:  MOCK - Turning ON pin 18.\u001b[39m\n",
      "_bedroom on\n",
      "\u001b[93mWARN [_mock.py:62]:  MOCK - Setting RGB Bedroom Light to 0, 128, 255\u001b[39m\n",
      "_bedroom off\n",
      "\u001b[93mWARN [_mock.py:62]:  MOCK - Setting RGB Bedroom Light to 0, 0, 0\u001b[39m\n",
      "LEDs On\n",
      "\u001b[93mWARN [_mock.py:51]:  MOCK - Setting Blue Light to 255\u001b[39m\n",
      "\u001b[93mWARN [_mock.py:57]:  MOCK - Setting Green Light to 255\u001b[39m\n",
      "\u001b[93mWARN [_mock.py:62]:  MOCK - Setting RGB Bedroom Light to 128, 30, 255\u001b[39m\n",
      "\u001b[93mWARN [_mock.py:68]:  MOCK - Setting RGB Doorframe Light to 128, 30, 255\u001b[39m\n",
      "LEDs Night\n",
      "\u001b[93mWARN [_mock.py:51]:  MOCK - Setting Blue Light to 255\u001b[39m\n",
      "\u001b[93mWARN [_mock.py:57]:  MOCK - Setting Green Light to 255\u001b[39m\n",
      "\u001b[93mWARN [_mock.py:62]:  MOCK - Setting RGB Bedroom Light to 255, 50, 0\u001b[39m\n",
      "\u001b[93mWARN [_mock.py:68]:  MOCK - Setting RGB Doorframe Light to 255, 50, 0\u001b[39m\n",
      "LEDs Off\n",
      "\u001b[93mWARN [_mock.py:51]:  MOCK - Setting Blue Light to 0\u001b[39m\n",
      "\u001b[93mWARN [_mock.py:57]:  MOCK - Setting Green Light to 0\u001b[39m\n",
      "\u001b[93mWARN [_mock.py:62]:  MOCK - Setting RGB Bedroom Light to 0, 0, 0\u001b[39m\n",
      "\u001b[93mWARN [_mock.py:68]:  MOCK - Setting RGB Doorframe Light to 0, 0, 0\u001b[39m\n",
      "Pixel Day\n",
      "\u001b[93mWARN [_mock.py:74]:  MOCK - Setting RGB Tensegrity Light to 255, 255, 255\u001b[39m\n",
      "\u001b[93mWARN [http.py:39]:  MOCK - Setting CRPD Pixel 1 to 255, 255, 255.\u001b[39m\n",
      "\u001b[93mWARN [http.py:39]:  MOCK - Setting CRPD Pixel 2 to 255, 255, 255.\u001b[39m\n",
      "\u001b[93mWARN [http.py:39]:  MOCK - Setting CRPD Pixel 3 to 255, 255, 255.\u001b[39m\n",
      "\u001b[93mWARN [http.py:39]:  MOCK - Setting CRPD Pixel 4 to 255, 255, 255.\u001b[39m\n",
      "Pixel Night\n",
      "\u001b[93mWARN [_mock.py:74]:  MOCK - Setting RGB Tensegrity Light to 255, 72, 3\u001b[39m\n",
      "\u001b[93mWARN [http.py:39]:  MOCK - Setting CRPD Pixel 1 to 255, 66, 6.\u001b[39m\n",
      "\u001b[93mWARN [http.py:39]:  MOCK - Setting CRPD Pixel 2 to 255, 68, 10.\u001b[39m\n",
      "\u001b[93mWARN [http.py:39]:  MOCK - Setting CRPD Pixel 3 to 255, 69, 10.\u001b[39m\n",
      "\u001b[93mWARN [http.py:39]:  MOCK - Setting CRPD Pixel 4 to 255, 49, 7.\u001b[39m\n",
      "Pixel Off\n",
      "\u001b[93mWARN [_mock.py:74]:  MOCK - Setting RGB Tensegrity Light to 0, 0, 0\u001b[39m\n",
      "\u001b[93mWARN [http.py:39]:  MOCK - Setting CRPD Pixel 1 to 0, 0, 0.\u001b[39m\n",
      "\u001b[93mWARN [http.py:39]:  MOCK - Setting CRPD Pixel 2 to 0, 0, 0.\u001b[39m\n",
      "\u001b[93mWARN [http.py:39]:  MOCK - Setting CRPD Pixel 3 to 0, 0, 0.\u001b[39m\n",
      "\u001b[93mWARN [http.py:39]:  MOCK - Setting CRPD Pixel 4 to 0, 0, 0.\u001b[39m\n"
     ]
    }
   ],
   "source": [
    "explain('Should be able to apply presets that turn lights on and off.')\n",
    "\n",
    "presets = tsl.services.get_presets()\n",
    "for p in presets:\n",
    "    print(p.name)\n",
    "    tsl.services.apply_preset(p.id)"
   ]
  },
  {
   "cell_type": "code",
   "execution_count": 7,
   "metadata": {},
   "outputs": [
    {
     "name": "stdout",
     "output_type": "stream",
     "text": [
      "Explain: Should be able to get schedules\n",
      "{'id': 1, 'name': 'Grow Lights', 'is_enabled': 1, 'schedule_items': [{'id': 1, 'trigger': {'hour': 6, 'minute': 0}, 'preset_id': 3}, {'id': 2, 'trigger': {'hour': 0, 'minute': 0}, 'preset_id': 4}]}\n"
     ]
    }
   ],
   "source": [
    "explain('Should be able to get schedules')\n",
    "for s in tsl.services.get_schedules():\n",
    "    print(s.convert_to_dictionary())"
   ]
  },
  {
   "cell_type": "code",
   "execution_count": 8,
   "metadata": {},
   "outputs": [
    {
     "name": "stdout",
     "output_type": "stream",
     "text": [
      "Explain: Should be able to enable/disable schedules.\n",
      "Grow Lights\n",
      "is enabled\n",
      "Grow Lights\n",
      "is NOT enabled\n"
     ]
    }
   ],
   "source": [
    "explain('Should be able to enable/disable schedules.')\n",
    "\n",
    "s = tsl.services.get_schedules()[0]\n",
    "print(s.name)\n",
    "print('is enabled' if s.is_enabled else 'is NOT enabled')\n",
    "\n",
    "tsl.services.set_schedule_enabled(s.id, not s.is_enabled)\n",
    "s = tsl.services.get_schedules()[0]\n",
    "print(s.name)\n",
    "print('is enabled' if s.is_enabled else 'is NOT enabled')"
   ]
  },
  {
   "cell_type": "code",
   "execution_count": 9,
   "metadata": {},
   "outputs": [
    {
     "name": "stdout",
     "output_type": "stream",
     "text": [
      "Explain: Should be able to correctly assess most recent triggers in schedules that are enabled.\n",
      "Explain: Try calling function, wait a bit, and try calling again.\n",
      "Explain: ... nothing should have happened.\n",
      "\n",
      "\n",
      "Explain: Now I'll create a fake schedule to fire preset 1 a minute from now.\n",
      "Explain: Now, we wait for 61 seconds and try calling again.\n",
      "Explain: Try calling...\n",
      "\u001b[93mWARN [_mock.py:23]:  MOCK - Turning OFF pin 18.\u001b[39m\n",
      "\u001b[93mWARN [_mock.py:51]:  MOCK - Setting Blue Light to 255\u001b[39m\n",
      "\u001b[93mWARN [_mock.py:57]:  MOCK - Setting Green Light to 255\u001b[39m\n",
      "\u001b[93mWARN [_mock.py:62]:  MOCK - Setting RGB Bedroom Light to 128, 30, 255\u001b[39m\n",
      "\u001b[93mWARN [_mock.py:68]:  MOCK - Setting RGB Doorframe Light to 128, 30, 255\u001b[39m\n",
      "\u001b[93mWARN [_mock.py:74]:  MOCK - Setting RGB Tensegrity Light to 255, 255, 255\u001b[39m\n",
      "\u001b[93mWARN [http.py:39]:  MOCK - Setting CRPD Pixel 1 to 255, 255, 255.\u001b[39m\n",
      "\u001b[93mWARN [http.py:39]:  MOCK - Setting CRPD Pixel 2 to 255, 255, 255.\u001b[39m\n",
      "\u001b[93mWARN [http.py:39]:  MOCK - Setting CRPD Pixel 3 to 255, 255, 255.\u001b[39m\n",
      "\u001b[93mWARN [http.py:39]:  MOCK - Setting CRPD Pixel 4 to 255, 255, 255.\u001b[39m\n",
      "Explain: Okay. Something should have happened.\n",
      "Explain: ^ and just there, something should not have happened.\n"
     ]
    }
   ],
   "source": [
    "explain('Should be able to correctly assess most recent triggers in schedules that are enabled.')\n",
    "import tsl.dao.schedule\n",
    "from datetime import timedelta\n",
    "import time\n",
    "\n",
    "explain('Try calling function, wait a bit, and try calling again.')\n",
    "now = tsl.services.apply_recent_triggers(None)\n",
    "time.sleep(2)\n",
    "now = tsl.services.apply_recent_triggers(now)\n",
    "explain('... nothing should have happened.\\n\\n')\n",
    "\n",
    "explain('Now I\\'ll create a fake schedule to fire preset 1 a minute from now.')\n",
    "delta = timedelta(minutes=1)\n",
    "tt = now + delta\n",
    "schedule = tsl.model.Schedule(None, 'Example', True, [\n",
    "    tsl.model.ScheduleItem(None, tsl.model.Trigger(hour=tt.hour, minute=tt.minute), 1),\n",
    "])\n",
    "s_id = tsl.dao.schedule.create_schedule(schedule)\n",
    "\n",
    "explain('Now, we wait for 61 seconds and try calling again.')\n",
    "time.sleep(61)\n",
    "explain('Try calling...')\n",
    "now = tsl.services.apply_recent_triggers(now)\n",
    "explain('Okay. Something should have happened.')\n",
    "now = tsl.services.apply_recent_triggers(now)\n",
    "explain('^ and just there, something should not have happened.')\n"
   ]
  },
  {
   "cell_type": "code",
   "execution_count": null,
   "metadata": {},
   "outputs": [],
   "source": []
  }
 ],
 "metadata": {
  "kernelspec": {
   "display_name": "Python 3",
   "language": "python",
   "name": "python3"
  },
  "language_info": {
   "codemirror_mode": {
    "name": "ipython",
    "version": 3
   },
   "file_extension": ".py",
   "mimetype": "text/x-python",
   "name": "python",
   "nbconvert_exporter": "python",
   "pygments_lexer": "ipython3",
   "version": "3.8.2"
  }
 },
 "nbformat": 4,
 "nbformat_minor": 4
}
